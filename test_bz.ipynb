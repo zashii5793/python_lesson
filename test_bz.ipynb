{
  "nbformat": 4,
  "nbformat_minor": 0,
  "metadata": {
    "colab": {
      "name": "test_bz.ipynb",
      "provenance": [],
      "collapsed_sections": []
    },
    "kernelspec": {
      "name": "python3",
      "display_name": "Python 3"
    },
    "language_info": {
      "name": "python"
    }
  },
  "cells": [
    {
      "cell_type": "code",
      "metadata": {
        "colab": {
          "base_uri": "https://localhost:8080/"
        },
        "id": "ZyJSDJqei_k9",
        "outputId": "0e38080f-8d16-4e19-918b-2a4d72e3a921"
      },
      "source": [
        "import numpy as np　#数値計算統計解析やデータ分析などで、 データ加工や演算をスムーズに行うためのライブラリ\n",
        "import matplotlib.pyplot as plt　#暗黙的かつ自動的に図形や軸を作成するインターフェース\n",
        "import pandas as pd #データの読込や並べ替え、欠損値（欠けている項目値）の補完などを行うことができるライブラリ\n",
        "import random #ランダムな要素や乱数を使う\n",
        "%matplotlib inline\n",
        "import seaborn as sns #データの可視化(グラフ作成)を行うPythonライブラリです。 Pythonで有名な可視化ライブラリであるmatplotlibのラッパー関数(内包プログラム)\n",
        "\n",
        "import requests #HTTP通信ライブラリ\n",
        "import json　#jsonファイルからの読み込み、データの文字列 ⇔ 辞書型変換、ファイルへの保存を行う\n",
        "import re #正規表現を行うモジュール\n",
        "\n",
        "\n",
        "\n"
      ],
      "execution_count": 1,
      "outputs": [
        {
          "output_type": "stream",
          "text": [
            "a\n"
          ],
          "name": "stdout"
        }
      ]
    },
    {
      "cell_type": "code",
      "execution_count": null,
      "metadata": {},
      "outputs": [],
      "source": [
        "# APIの仕様は\n",
        "url_path = \"https://www.land.mlit.go.jp/webland/api/TradeListSearch?from=20171&to=20175&area=13\"\n",
        "request_result = requests.get(url_path)\n",
        "data_json = request_result.json()[\"data\"]"
      ]
    },
    {
      "cell_type": "code",
      "execution_count": null,
      "metadata": {},
      "outputs": [],
      "source": []
    }
  ]
}