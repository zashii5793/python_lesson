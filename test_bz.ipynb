{
  "nbformat": 4,
  "nbformat_minor": 0,
  "metadata": {
    "colab": {
      "name": "test_bz.ipynb",
      "provenance": [],
      "collapsed_sections": []
    },
    "kernelspec": {
      "name": "python3",
      "display_name": "Python 3"
    },
    "language_info": {
      "name": "python"
    }
  },
  "cells": [
    {
      "cell_type": "code",
      "metadata": {
        "colab": {
          "base_uri": "https://localhost:8080/"
        },
        "id": "ZyJSDJqei_k9",
        "outputId": "0e38080f-8d16-4e19-918b-2a4d72e3a921"
      },
      "source": [
        "import numpy as np　#数値計算統計解析やデータ分析などで、 データ加工や演算をスムーズに行うためのライブラリ\n",
        "import matplotlib.pyplot as plt　#暗黙的かつ自動的に図形や軸を作成するインターフェース\n",
        "import pandas as pd #データの読込や並べ替え、欠損値（欠けている項目値）の補完などを行うことができるライブラリ\n",
        "import random #ランダムな要素や乱数を使う\n",
        "%matplotlib inline\n",
        "import seaborn as sns #データの可視化(グラフ作成)を行うPythonライブラリです。 Pythonで有名な可視化ライブラリであるmatplotlibのラッパー関数(内包プログラム)\n",
        "\n",
        "import requests #HTTP通信ライブラリ\n",
        "import json　#jsonファイルからの読み込み、データの文字列 ⇔ 辞書型変換、ファイルへの保存を行う\n",
        "import re #正規表現を行うモジュール\n",
        "\n",
        "\n",
        "\n"
      ],
      "execution_count": 1,
      "outputs": [
        {
          "output_type": "stream",
          "text": [
            "a\n"
          ],
          "name": "stdout"
        }
      ]
    },
    {
      "cell_type": "code",
      "execution_count": null,
      "metadata": {},
      "outputs": [],
      "source": [
        "# APIの仕様は\n",
        "url_path = \"https://www.land.mlit.go.jp/webland/api/TradeListSearch?from=20171&to=20175&area=13\"\n",
        "request_result = requests.get(url_path)\n",
        "data_json = request_result.json()[\"data\"]and\n",
        "data_pd"
      ]
    },
    {
      "cell_type": "code",
      "execution_count": null,
      "metadata": {},
      "outputs": [],
      "source": []
    },
    {
      "cell_type": "code",
      "execution_count": null,
      "metadata": {},
      "outputs": [],
      "source": [
        "data_from_csv = pd.read_csv(\"13_Tokyo_20171_20184.csv\", encoding='cp932')\n",
        "data_from_csv.head(5)\n",
        "data_from_csv[\"A\"].unique()\n",
        "data_used_apartment = data_from_csv.query('種類 == \"中古マンション\"')\n",
        "data_used_apartment.shape\n",
        "data_used_apartment.isnull().sum()\n",
        "data_added_dummies[\"面積（㎡）\"] = data_added_dummies[\"面積（㎡）\"].astype(float)\n",
        "plt.hist(data_added_dummies[\"取引価格（総額）\"])\n",
        "plt.show()\n",
        "\n",
        "from sklearn.linear_model import LinearRegression # 線形回帰をする用のモジュールを呼び出し\n",
        "from sklearn.model_selection import train_test_split # 検証用に学習データとテストデータを分割してくれるモジュールを呼び出し\n",
        "\n",
        "print(data_from_csv.iloc[0])\n",
        "\n"
      ]
    },
    {
      "cell_type": "code",
      "execution_count": null,
      "metadata": {},
      "outputs": [],
      "source": [
        "!curl -L http://prdownloads.sourceforge.net/ta-lib/ta-lib-0.4.0-src.tar.gz -O && tar xzvf ta-lib-0.4.0-src.tar.gz\n",
        "!cd ta-lib && ./configure --prefix=/usr && make && make install && cd - && pip install ta-lib\n",
        "!pip install tqdm\n",
        "!pip install plotly --upgrade\n",
        "\n",
        "def enable_plotly_in_cell():\n",
        "    import IPython\n",
        "    from plotly.offline import init_notebook_mode\n",
        "    display(IPython.core.display.HTML('''<script src=\"/static/components/requirejs/require.js\"></script>'''))\n",
        "    init_notebook_mode( connected=False )\n",
        "\n",
        "def calc_techs( df ) :\n",
        "  import talib as ta\n",
        "  import numpy as np\n",
        "  df['Highest20'] = np.append( np.nan ,ta.MAX( df['High'].values ,20 )[:-1] )\n",
        "  df['Highest10'] = np.append( np.nan ,ta.MAX( df['High'].values ,10 )[:-1] )\n",
        "  df['Lowest20'] = np.append( np.nan ,ta.MIN( df['Low'].values ,20 )[:-1] )\n",
        "  df['Lowest10'] = np.append( np.nan ,ta.MIN( df['Low'].values ,10 )[:-1] )\n",
        "  df['EMA350'] = ta.EMA( df['Close'].values ,350 )\n",
        "  df['EMA25'] = ta.EMA( df['Close'].values ,25 )\n",
        "  df['ATR20'] = ta.ATR( df['High'].values ,df['Low'].values ,df['Close'].values ,20 )\n",
        "  return df\n",
        "\n",
        "  def set_price_data( start_date ,dict_target_symbols ) :\n",
        "  import pandas as pd\n",
        "  from tqdm import tqdm\n",
        "  df = pd.DataFrame()\n",
        "  for target_symbol in tqdm( list( dict_target_symbols.keys() ) ) :\n",
        "    df_raw = get_stooq( target_symbol )\n",
        "    df_raw = calc_techs( df_raw )\n",
        "    df_raw.columns = pd.MultiIndex.from_product(  [ [ dict_target_symbols[ target_symbol ] ] ,df_raw.columns ] ,names=[ 'Symbol' ,'Item' ] )\n",
        "    df = pd.concat( [ df ,df_raw ] ,axis='columns' ,join='outer' )\n",
        "  df = df.ffill()\n",
        "  df = df.loc[ start_date: ,: ]\n",
        "  return df\n",
        "\n",
        "def plot_chart( df ,target_symbol ,start ,end ) :\n",
        "  import plotly.graph_objs as go\n",
        "  layout = dict( title = f'{target_symbol}: {start} ～ {end}'\n",
        "                ,width = 1200 ,height = 700 ,font = dict( size=15 )\n",
        "                ,xaxis = dict( title=\"\" ,rangeslider=dict( visible=False ) ,showgrid=True ,tickangle=45 ,anchor=\"y2\" ) #type=\"Date\"\n",
        "                ,yaxis = dict( domain=[.25 ,1  ] ,title=\"\" )\n",
        "                ,yaxis2 = dict( domain=[0   ,.25] ,title=\"\" ,zeroline=False ) )\n",
        "  def add_scatter( fig ,df ,column_name ,**kwargs ) : fig.add_trace( go.Scatter( x=df.index ,y=df[ column_name ] ,name=column_name ,**kwargs ) )\n",
        "  def add_candle( fig ,df ,**kwargs ) : fig.add_trace( go.Candlestick( x=df.index ,open=df['Open'] ,high=df['High'] ,low=df['Low'], close=df['Close'] ,showlegend=False ,**kwargs ) )\n",
        "\n",
        "  df_plot = df.loc[ start : end ,: ][ target_symbol ]\n",
        "  fig = go.Figure( data=[] )\n",
        "  add_scatter( fig ,df_plot ,'ATR20'     ,line=dict( color='rgba(200,0,0,1)' ,width=1 ) ,yaxis='y2' )\n",
        "  add_scatter( fig ,df_plot ,'Highest20' ,line=dict( color='rgba(150,150,150,.7)' ,width=1 ) )\n",
        "  add_scatter( fig ,df_plot ,'Lowest20'  ,line=dict( color='rgba(150,150,150,.7)' ,width=1 ) ,fill=\"tonexty\" ,fillcolor=\"rgba(120,120,120,.2)\" )\n",
        "  add_scatter( fig ,df_plot ,'Highest10' ,line=dict( color='rgba(100,100,100,.7)' ,width=1 ) )\n",
        "  add_scatter( fig ,df_plot ,'Lowest10'  ,line=dict( color='rgba(100,100,100,.7)' ,width=1 ) ,fill=\"tonexty\" ,fillcolor=\"rgba(70,70,70,.1)\" )\n",
        "  add_scatter( fig ,df_plot ,'EMA25'     ,line=dict( color='rgba(200,0,0,1)' ,width=1 ) )\n",
        "  add_scatter( fig ,df_plot ,'EMA350'    ,line=dict( color='rgba(0,0,200,1)' ,width=1 ) )\n",
        "  add_candle( fig ,df_plot )\n",
        "\n",
        "  fig.update_layout( **layout )\n",
        "  enable_plotly_in_cell()\n",
        "  fig.show()\n",
        "  \n",
        "\n"
      ]
    },
    {
      "cell_type": "code",
      "execution_count": null,
      "metadata": {},
      "outputs": [],
      "source": []
    }
  ]
}